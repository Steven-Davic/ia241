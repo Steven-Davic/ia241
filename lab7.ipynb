{
 "cells": [
  {
   "cell_type": "code",
   "execution_count": 5,
   "metadata": {},
   "outputs": [],
   "source": [
    "import xlwt        \n",
    "from collections import Counter        \n",
    "         \n",
    "book = xlwt.Workbook() \n",
    "sheet_test = book.add_sheet('word_count')\n",
    "i = 0\n",
    "sheet_test.write(i,0,'word')\n",
    "sheet_test.write(i,1,'count')\n",
    " \n",
    "with open('IA_jobs.txt','r') as ia_jobs:\n",
    "    count_result =  Counter(ia_jobs.read().split()) \n",
    "    for result in count_result.most_common(20):\n",
    "        i = i+1 \n",
    "        sheet_test.write(i,0,result[0])\n",
    "        sheet_test.write(i,1,result[1])\n",
    " \n",
    "book.save('lab7_result.xls')"
   ]
  },
  {
   "cell_type": "code",
   "execution_count": null,
   "metadata": {},
   "outputs": [],
   "source": []
  }
 ],
 "metadata": {
  "kernelspec": {
   "display_name": "conda_python3",
   "language": "python",
   "name": "conda_python3"
  },
  "language_info": {
   "codemirror_mode": {
    "name": "ipython",
    "version": 3
   },
   "file_extension": ".py",
   "mimetype": "text/x-python",
   "name": "python",
   "nbconvert_exporter": "python",
   "pygments_lexer": "ipython3",
   "version": "3.6.5"
  }
 },
 "nbformat": 4,
 "nbformat_minor": 4
}
